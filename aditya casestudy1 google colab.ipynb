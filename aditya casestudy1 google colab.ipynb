{
  "nbformat": 4,
  "nbformat_minor": 0,
  "metadata": {
    "colab": {
      "provenance": []
    },
    "kernelspec": {
      "name": "python3",
      "display_name": "Python 3"
    },
    "language_info": {
      "name": "python"
    }
  },
  "cells": [
    {
      "cell_type": "code",
      "execution_count": 24,
      "metadata": {
        "colab": {
          "base_uri": "https://localhost:8080/"
        },
        "id": "BUnLhk5EZzPa",
        "outputId": "ebd8622b-e961-4b3a-921a-9caeb3ae907e"
      },
      "outputs": [
        {
          "output_type": "stream",
          "name": "stdout",
          "text": [
            "cost of item1: 22\n",
            "cost of item2: 33\n",
            "cost of item3: 33\n",
            "total cost: $ 79.2\n"
          ]
        }
      ],
      "source": [
        "a=float(input(\"cost of item1: \"))\n",
        "b=float(input(\"cost of item2: \"))\n",
        "c=float(input(\"cost of item3: \"))\n",
        "total=a+b+c\n",
        "if (total>50):\n",
        "  total=total-total*(10/100)\n",
        "print(\"total cost: $\",total)"
      ]
    }
  ]
}